{
 "cells": [
  {
   "cell_type": "markdown",
   "metadata": {},
   "source": [
    "## Processing Wikisource\n",
    "- pyhon 10.3 버전 가상환경 구축 필요.\n",
    "- 필요한 라이브러리 설치."
   ]
  },
  {
   "cell_type": "code",
   "execution_count": 11,
   "metadata": {},
   "outputs": [
    {
     "name": "stdout",
     "output_type": "stream",
     "text": [
      "\n",
      "\u001b[1m[\u001b[0m\u001b[34;49mnotice\u001b[0m\u001b[1;39;49m]\u001b[0m\u001b[39;49m A new release of pip is available: \u001b[0m\u001b[31;49m25.1.1\u001b[0m\u001b[39;49m -> \u001b[0m\u001b[32;49m25.2\u001b[0m\n",
      "\u001b[1m[\u001b[0m\u001b[34;49mnotice\u001b[0m\u001b[1;39;49m]\u001b[0m\u001b[39;49m To update, run: \u001b[0m\u001b[32;49mpip install --upgrade pip\u001b[0m\n",
      "Requirement already satisfied: pandas in /Users/irolim/Documents/한중연/4차시/prePrint/dataParsing/myenv/lib/python3.10/site-packages (2.3.2)\n",
      "Requirement already satisfied: numpy>=1.22.4 in /Users/irolim/Documents/한중연/4차시/prePrint/dataParsing/myenv/lib/python3.10/site-packages (from pandas) (2.2.6)\n",
      "Requirement already satisfied: python-dateutil>=2.8.2 in /Users/irolim/Documents/한중연/4차시/prePrint/dataParsing/myenv/lib/python3.10/site-packages (from pandas) (2.9.0.post0)\n",
      "Requirement already satisfied: pytz>=2020.1 in /Users/irolim/Documents/한중연/4차시/prePrint/dataParsing/myenv/lib/python3.10/site-packages (from pandas) (2025.2)\n",
      "Requirement already satisfied: tzdata>=2022.7 in /Users/irolim/Documents/한중연/4차시/prePrint/dataParsing/myenv/lib/python3.10/site-packages (from pandas) (2025.2)\n",
      "Requirement already satisfied: six>=1.5 in /Users/irolim/Documents/한중연/4차시/prePrint/dataParsing/myenv/lib/python3.10/site-packages (from python-dateutil>=2.8.2->pandas) (1.17.0)\n",
      "\n",
      "\u001b[1m[\u001b[0m\u001b[34;49mnotice\u001b[0m\u001b[1;39;49m]\u001b[0m\u001b[39;49m A new release of pip is available: \u001b[0m\u001b[31;49m25.1.1\u001b[0m\u001b[39;49m -> \u001b[0m\u001b[32;49m25.2\u001b[0m\n",
      "\u001b[1m[\u001b[0m\u001b[34;49mnotice\u001b[0m\u001b[1;39;49m]\u001b[0m\u001b[39;49m To update, run: \u001b[0m\u001b[32;49mpip install --upgrade pip\u001b[0m\n",
      "Collecting lxml\n",
      "  Downloading lxml-6.0.1-cp310-cp310-macosx_10_9_universal2.whl.metadata (3.8 kB)\n",
      "Downloading lxml-6.0.1-cp310-cp310-macosx_10_9_universal2.whl (8.4 MB)\n",
      "\u001b[2K   \u001b[90m━━━━━━━━━━━━━━━━━━━━━━━━━━━━━━━━━━━━━━━━\u001b[0m \u001b[32m8.4/8.4 MB\u001b[0m \u001b[31m3.0 MB/s\u001b[0m eta \u001b[36m0:00:00\u001b[0ma \u001b[36m0:00:01\u001b[0m\n",
      "\u001b[?25hInstalling collected packages: lxml\n",
      "Successfully installed lxml-6.0.1\n",
      "\n",
      "\u001b[1m[\u001b[0m\u001b[34;49mnotice\u001b[0m\u001b[1;39;49m]\u001b[0m\u001b[39;49m A new release of pip is available: \u001b[0m\u001b[31;49m25.1.1\u001b[0m\u001b[39;49m -> \u001b[0m\u001b[32;49m25.2\u001b[0m\n",
      "\u001b[1m[\u001b[0m\u001b[34;49mnotice\u001b[0m\u001b[1;39;49m]\u001b[0m\u001b[39;49m To update, run: \u001b[0m\u001b[32;49mpip install --upgrade pip\u001b[0m\n"
     ]
    }
   ],
   "source": [
    "!pip install -q wikiextractor gdown\n",
    "!pip install pandas"
   ]
  },
  {
   "cell_type": "code",
   "execution_count": 1,
   "metadata": {},
   "outputs": [],
   "source": [
    "# 필요 패키지 load\n",
    "import pandas as pd\n",
    "from tqdm import tqdm\n",
    "tqdm.pandas()\n",
    "import glob, os\n",
    "import re"
   ]
  },
  {
   "cell_type": "code",
   "execution_count": 2,
   "metadata": {},
   "outputs": [
    {
     "name": "stdout",
     "output_type": "stream",
     "text": [
      "--2025-08-24 13:27:46--  https://dumps.wikimedia.org/kowikisource/20250801/kowikisource-20250801-pages-articles.xml.bz2\n",
      "dumps.wikimedia.org (dumps.wikimedia.org) 해석 중... 208.80.154.71\n",
      "다음으로 연결 중: dumps.wikimedia.org (dumps.wikimedia.org)|208.80.154.71|:443... 연결했습니다.\n",
      "HTTP 요청을 보냈습니다. 응답 기다리는 중... 200 OK\n",
      "길이: 154289165 (147M) [application/octet-stream]\n",
      "저장 위치: `kowikisource-20250801-pages-articles.xml.bz2.1'\n",
      "\n",
      "kowikisource-202508 100%[===================>] 147.14M  1.18MB/s    /  2m 7s   \n",
      "\n",
      "2025-08-24 13:29:54 (1.16 MB/s) - `kowikisource-20250801-pages-articles.xml.bz2.1' 저장함 [154289165/154289165]\n",
      "\n"
     ]
    }
   ],
   "source": [
    "# 위키문헌 xml 원본 파일 다운로드\n",
    "# https://dumps.wikimedia.org/kowikisource/20240901/kowikisource-20240901-pages-articles.xml.bz2\n",
    "#!wget https://dumps.wikimedia.org/kowikisource/20241101/kowikisource-20241101-pages-articles.xml.bz2\n",
    "!wget https://dumps.wikimedia.org/kowikisource/20250801/kowikisource-20250801-pages-articles.xml.bz2"
   ]
  },
  {
   "cell_type": "code",
   "execution_count": 3,
   "metadata": {},
   "outputs": [
    {
     "name": "stdout",
     "output_type": "stream",
     "text": [
      "INFO: Preprocessing 'kowikisource-20250801-pages-articles.xml.bz2' to collect template definitions: this may take some time.\n",
      "INFO: Loaded 1588 templates in 28.8s\n",
      "INFO: Starting page extraction from kowikisource-20250801-pages-articles.xml.bz2.\n",
      "INFO: Using 7 extract processes.\n",
      "INFO: Finished 7-process extraction of 31062 articles in 44.8s (694.0 art/s)\n"
     ]
    }
   ],
   "source": [
    "# json 파일로 변환\n",
    "!python -m wikiextractor.WikiExtractor --json kowikisource-20250801-pages-articles.xml.bz2"
   ]
  },
  {
   "cell_type": "code",
   "execution_count": 4,
   "metadata": {},
   "outputs": [
    {
     "name": "stdout",
     "output_type": "stream",
     "text": [
      "      id  revid                                         url          title  \\\n",
      "0  29759   5442  https://ko.wikisource.org/wiki?curid=29759          애인/하권   \n",
      "1  29775  15531  https://ko.wikisource.org/wiki?curid=29775             고향   \n",
      "2  29779  15531  https://ko.wikisource.org/wiki?curid=29779  파리에서 본 것 늣긴 것   \n",
      "3  29782   8771  https://ko.wikisource.org/wiki?curid=29782          동물 시집   \n",
      "4  29783   3009  https://ko.wikisource.org/wiki?curid=29783       동물 시집/나비   \n",
      "\n",
      "                                                text  \n",
      "0  人魚[인어]와 유모레스크.\\n이튿날 아침, 부산역에서 내렸을 때, 석란은 가벼운 현...  \n",
      "1                                                     \n",
      "2  내가 巴里[파리]에 있을 적 일이다 주인[主人]집에서 친구 哲學博士[철학박사]를 主...  \n",
      "3                                                     \n",
      "4  &lt;poem&gt;\\n비바람 험살궂게 거쳐 간 추녀 밑 \\n날개 찢어진 늙은 노...  \n"
     ]
    }
   ],
   "source": [
    "# text폴터 내 json 파일들을 읽어와서 하나의 DataFrame으로 합치기\n",
    "files = glob.glob(\"text/**/*\", recursive=True)  # 모든 출력 파일 경로\n",
    "dfs = []\n",
    "for f in files:\n",
    "    if os.path.isfile(f):\n",
    "        dfs.append(pd.read_json(f, lines=True))\n",
    "\n",
    "df = pd.concat(dfs, ignore_index=True)\n",
    "print(df.head())"
   ]
  },
  {
   "cell_type": "code",
   "execution_count": 5,
   "metadata": {},
   "outputs": [
    {
     "data": {
      "text/html": [
       "<div>\n",
       "<style scoped>\n",
       "    .dataframe tbody tr th:only-of-type {\n",
       "        vertical-align: middle;\n",
       "    }\n",
       "\n",
       "    .dataframe tbody tr th {\n",
       "        vertical-align: top;\n",
       "    }\n",
       "\n",
       "    .dataframe thead th {\n",
       "        text-align: right;\n",
       "    }\n",
       "</style>\n",
       "<table border=\"1\" class=\"dataframe\">\n",
       "  <thead>\n",
       "    <tr style=\"text-align: right;\">\n",
       "      <th></th>\n",
       "      <th>id</th>\n",
       "      <th>revid</th>\n",
       "      <th>url</th>\n",
       "      <th>title</th>\n",
       "      <th>text</th>\n",
       "    </tr>\n",
       "  </thead>\n",
       "  <tbody>\n",
       "    <tr>\n",
       "      <th>0</th>\n",
       "      <td>29759</td>\n",
       "      <td>5442</td>\n",
       "      <td>https://ko.wikisource.org/wiki?curid=29759</td>\n",
       "      <td>애인/하권</td>\n",
       "      <td>人魚[인어]와 유모레스크.\\n이튿날 아침, 부산역에서 내렸을 때, 석란은 가벼운 현...</td>\n",
       "    </tr>\n",
       "    <tr>\n",
       "      <th>1</th>\n",
       "      <td>29775</td>\n",
       "      <td>15531</td>\n",
       "      <td>https://ko.wikisource.org/wiki?curid=29775</td>\n",
       "      <td>고향</td>\n",
       "      <td></td>\n",
       "    </tr>\n",
       "    <tr>\n",
       "      <th>2</th>\n",
       "      <td>29779</td>\n",
       "      <td>15531</td>\n",
       "      <td>https://ko.wikisource.org/wiki?curid=29779</td>\n",
       "      <td>파리에서 본 것 늣긴 것</td>\n",
       "      <td>내가 巴里[파리]에 있을 적 일이다 주인[主人]집에서 친구 哲學博士[철학박사]를 主...</td>\n",
       "    </tr>\n",
       "    <tr>\n",
       "      <th>3</th>\n",
       "      <td>29782</td>\n",
       "      <td>8771</td>\n",
       "      <td>https://ko.wikisource.org/wiki?curid=29782</td>\n",
       "      <td>동물 시집</td>\n",
       "      <td></td>\n",
       "    </tr>\n",
       "    <tr>\n",
       "      <th>4</th>\n",
       "      <td>29783</td>\n",
       "      <td>3009</td>\n",
       "      <td>https://ko.wikisource.org/wiki?curid=29783</td>\n",
       "      <td>동물 시집/나비</td>\n",
       "      <td>&amp;lt;poem&amp;gt;\\n비바람 험살궂게 거쳐 간 추녀 밑 \\n날개 찢어진 늙은 노...</td>\n",
       "    </tr>\n",
       "    <tr>\n",
       "      <th>...</th>\n",
       "      <td>...</td>\n",
       "      <td>...</td>\n",
       "      <td>...</td>\n",
       "      <td>...</td>\n",
       "      <td>...</td>\n",
       "    </tr>\n",
       "    <tr>\n",
       "      <th>31056</th>\n",
       "      <td>78868</td>\n",
       "      <td>15531</td>\n",
       "      <td>https://ko.wikisource.org/wiki?curid=78868</td>\n",
       "      <td>할미꽃</td>\n",
       "      <td>할미꽃 全 一幕\\n인물\\n시일\\n장경(場景)\\n丁, 어떡하면 좋아요, 다른 과에서는...</td>\n",
       "    </tr>\n",
       "    <tr>\n",
       "      <th>31057</th>\n",
       "      <td>78872</td>\n",
       "      <td>15531</td>\n",
       "      <td>https://ko.wikisource.org/wiki?curid=78872</td>\n",
       "      <td>아인슈타인 박사와 탐정소설</td>\n",
       "      <td>「아인슈타인 博士와 探偵小說」\\n金來成\\n自然現象과 探偵小說.\\n「物理學의 發展」“...</td>\n",
       "    </tr>\n",
       "    <tr>\n",
       "      <th>31058</th>\n",
       "      <td>78881</td>\n",
       "      <td>15531</td>\n",
       "      <td>https://ko.wikisource.org/wiki?curid=78881</td>\n",
       "      <td>최근 문예이론의 신전개와 그 경향</td>\n",
       "      <td>─ 社會學的 及 文學史的 考察\\n一.\\n一九二九年 以後부터 나는 나의 『카푸』에 關...</td>\n",
       "    </tr>\n",
       "    <tr>\n",
       "      <th>31059</th>\n",
       "      <td>78888</td>\n",
       "      <td>15531</td>\n",
       "      <td>https://ko.wikisource.org/wiki?curid=78888</td>\n",
       "      <td>치악산</td>\n",
       "      <td></td>\n",
       "    </tr>\n",
       "    <tr>\n",
       "      <th>31060</th>\n",
       "      <td>78889</td>\n",
       "      <td>15531</td>\n",
       "      <td>https://ko.wikisource.org/wiki?curid=78889</td>\n",
       "      <td>지난 일년의 알쏭달쏭 수놓은 돗자리</td>\n",
       "      <td>세월이 덧없다고 또 한 번 써나 볼까. 쓰고서 읽어 보니 심심하고 맛없기가 왜 그리...</td>\n",
       "    </tr>\n",
       "  </tbody>\n",
       "</table>\n",
       "<p>31061 rows × 5 columns</p>\n",
       "</div>"
      ],
      "text/plain": [
       "          id  revid                                         url  \\\n",
       "0      29759   5442  https://ko.wikisource.org/wiki?curid=29759   \n",
       "1      29775  15531  https://ko.wikisource.org/wiki?curid=29775   \n",
       "2      29779  15531  https://ko.wikisource.org/wiki?curid=29779   \n",
       "3      29782   8771  https://ko.wikisource.org/wiki?curid=29782   \n",
       "4      29783   3009  https://ko.wikisource.org/wiki?curid=29783   \n",
       "...      ...    ...                                         ...   \n",
       "31056  78868  15531  https://ko.wikisource.org/wiki?curid=78868   \n",
       "31057  78872  15531  https://ko.wikisource.org/wiki?curid=78872   \n",
       "31058  78881  15531  https://ko.wikisource.org/wiki?curid=78881   \n",
       "31059  78888  15531  https://ko.wikisource.org/wiki?curid=78888   \n",
       "31060  78889  15531  https://ko.wikisource.org/wiki?curid=78889   \n",
       "\n",
       "                     title                                               text  \n",
       "0                    애인/하권  人魚[인어]와 유모레스크.\\n이튿날 아침, 부산역에서 내렸을 때, 석란은 가벼운 현...  \n",
       "1                       고향                                                     \n",
       "2            파리에서 본 것 늣긴 것  내가 巴里[파리]에 있을 적 일이다 주인[主人]집에서 친구 哲學博士[철학박사]를 主...  \n",
       "3                    동물 시집                                                     \n",
       "4                 동물 시집/나비  &lt;poem&gt;\\n비바람 험살궂게 거쳐 간 추녀 밑 \\n날개 찢어진 늙은 노...  \n",
       "...                    ...                                                ...  \n",
       "31056                  할미꽃  할미꽃 全 一幕\\n인물\\n시일\\n장경(場景)\\n丁, 어떡하면 좋아요, 다른 과에서는...  \n",
       "31057       아인슈타인 박사와 탐정소설  「아인슈타인 博士와 探偵小說」\\n金來成\\n自然現象과 探偵小說.\\n「物理學의 發展」“...  \n",
       "31058   최근 문예이론의 신전개와 그 경향  ─ 社會學的 及 文學史的 考察\\n一.\\n一九二九年 以後부터 나는 나의 『카푸』에 關...  \n",
       "31059                  치악산                                                     \n",
       "31060  지난 일년의 알쏭달쏭 수놓은 돗자리  세월이 덧없다고 또 한 번 써나 볼까. 쓰고서 읽어 보니 심심하고 맛없기가 왜 그리...  \n",
       "\n",
       "[31061 rows x 5 columns]"
      ]
     },
     "execution_count": 5,
     "metadata": {},
     "output_type": "execute_result"
    }
   ],
   "source": [
    "df"
   ]
  },
  {
   "cell_type": "markdown",
   "metadata": {},
   "source": [
    "### 시 행별/작품별 추출하는 함수"
   ]
  },
  {
   "cell_type": "code",
   "execution_count": 6,
   "metadata": {},
   "outputs": [],
   "source": [
    "def process_getPoemLines(data, title): # 위키문헌에서 시 본문 행단위 추출\n",
    "    # 불필요한 인자 제거\n",
    "    # filtered_list = [item for item in data if item not in [None, \"\", \" \", [], {}, '&lt;poem&gt;', '&lt;/poem&gt;','&lt;poem&gt; ']]\n",
    "\n",
    "    # 제거할 패턴 (HTML escape된 <poem>, </poem>, 변형 포함)\n",
    "    poem_pattern = re.compile(r'&lt;/?(poem|pages|doc)\\b[^&]*?&gt;', re.IGNORECASE)\n",
    "    # 문자열 필터링: 빈 문자열 및 <poem> 태그류 제거\n",
    "    filtered_list = [\n",
    "        item for item in data\n",
    "        if isinstance(item, str)                          # 문자열만 검사\n",
    "        and item.strip() not in (\"\",)                     # 빈 문자열 제거\n",
    "        and not poem_pattern.fullmatch(item.strip())      # <poem> 태그류 제거\n",
    "    ]\n",
    "    \n",
    "    body = filtered_list[0:]\n",
    "\n",
    "    # DataFrame 생성: 본문 열이 먼저 오도록\n",
    "    df = pd.DataFrame({'본문': body, '제목': [title] * len(body)})\n",
    "\n",
    "    return df"
   ]
  },
  {
   "cell_type": "code",
   "execution_count": 7,
   "metadata": {},
   "outputs": [],
   "source": [
    "def process_getPoemFullLines(data, title): # 위키문헌에서 시 본문 전체 추출\n",
    "    # 불필요한 인자 제거\n",
    "    # cleaned_text = data.replace('&lt;poem&gt;', '').replace('&lt;/poem&gt;', '').strip()\n",
    "    cleaned_text = re.sub(r'&lt;/?(poem|pages|doc)\\b[^&]*?&gt;', '', data).strip()\n",
    "    # 텍스트를 줄 단위로 나누기\n",
    "    lines = cleaned_text.strip().split('\\n')\n",
    "    body = '\\n'.join(lines[0:])  # 나머지는 본문\n",
    "\n",
    "    # DataFrame 생성\n",
    "    df = pd.DataFrame({'제목': [title], '본문': [body]})\n",
    "\n",
    "    return df"
   ]
  },
  {
   "cell_type": "markdown",
   "metadata": {},
   "source": [
    "### index를 검색하여 전체 데이터에서 한가지 작품만 행/작품단위로 데이터 추출"
   ]
  },
  {
   "cell_type": "code",
   "execution_count": 8,
   "metadata": {},
   "outputs": [],
   "source": [
    "def getOnlyOneresult_with_title(df, results_df, process_function, title_to_search, author, index):\n",
    "    # 제목에 해당하는 텍스트 검색\n",
    "    title_to_search.replace(\"_\", \" \")\n",
    "    filtered_text = df[df['title'].str.contains(title_to_search, na=False)]\n",
    "    if filtered_text.empty:\n",
    "        raise ValueError(f\"'{title_to_search}'에 해당하는 데이터가 없습니다.\")\n",
    "    # 'text' 값 추출\n",
    "    text_value = filtered_text.iloc[index]['text']\n",
    "\n",
    "    # 주어진 함수로 제목(title), 본문(text) 처리\n",
    "    processed_result = process_function(text_value.split('\\n'),filtered_text['title'].values[0])\n",
    "\n",
    "    # 처리 결과를 기존 DataFrame에 추가\n",
    "    updated_results = pd.concat([results_df, pd.DataFrame(processed_result)], ignore_index=True)\n",
    "\n",
    "    # 새로운 열 추가 (고정된 값)\n",
    "    updated_results['저자'] = author\n",
    "\n",
    "    return updated_results"
   ]
  },
  {
   "cell_type": "code",
   "execution_count": 9,
   "metadata": {},
   "outputs": [],
   "source": [
    "def getOnlyOneFullTextresult_with_title(df, results_df, process_function, title_to_search, author, index):\n",
    "    # 제목에 해당하는 텍스트 검색\n",
    "    title_to_search.replace(\"_\", \" \")\n",
    "    filtered_text = df[df['title'].str.contains(title_to_search, na=False)]\n",
    "    if filtered_text.empty:\n",
    "        raise ValueError(f\"'{title_to_search}'에 해당하는 데이터가 없습니다.\")\n",
    "\n",
    "    # 'text' 값 추출\n",
    "    full_text_value = filtered_text.iloc[index]['text']\n",
    "\n",
    "    # 주어진 함수로 제목(title), 본문(text) 처리\n",
    "    processed_result = process_function(full_text_value, filtered_text['title'].values[0])\n",
    "\n",
    "    # 처리 결과를 기존 DataFrame에 추가\n",
    "    updated_results = pd.concat([results_df, pd.DataFrame(processed_result)], ignore_index=True)\n",
    "    # 새로운 열 추가 (고정된 값)\n",
    "    updated_results['저자'] = author\n",
    "\n",
    "    return updated_results"
   ]
  },
  {
   "cell_type": "code",
   "execution_count": 10,
   "metadata": {},
   "outputs": [
    {
     "data": {
      "text/html": [
       "<div>\n",
       "<style scoped>\n",
       "    .dataframe tbody tr th:only-of-type {\n",
       "        vertical-align: middle;\n",
       "    }\n",
       "\n",
       "    .dataframe tbody tr th {\n",
       "        vertical-align: top;\n",
       "    }\n",
       "\n",
       "    .dataframe thead th {\n",
       "        text-align: right;\n",
       "    }\n",
       "</style>\n",
       "<table border=\"1\" class=\"dataframe\">\n",
       "  <thead>\n",
       "    <tr style=\"text-align: right;\">\n",
       "      <th></th>\n",
       "      <th>id</th>\n",
       "      <th>revid</th>\n",
       "      <th>url</th>\n",
       "      <th>title</th>\n",
       "      <th>text</th>\n",
       "    </tr>\n",
       "  </thead>\n",
       "  <tbody>\n",
       "    <tr>\n",
       "      <th>3479</th>\n",
       "      <td>34605</td>\n",
       "      <td>951</td>\n",
       "      <td>https://ko.wikisource.org/wiki?curid=34605</td>\n",
       "      <td>진달래꽃 (시집)/님에게</td>\n",
       "      <td>&amp;lt;poem&amp;gt;\\n한때는 많은 날을 당신 생각에\\n밤까지 새운 일도 없지 않...</td>\n",
       "    </tr>\n",
       "    <tr>\n",
       "      <th>3480</th>\n",
       "      <td>34606</td>\n",
       "      <td>290727</td>\n",
       "      <td>https://ko.wikisource.org/wiki?curid=34606</td>\n",
       "      <td>진달래꽃 (시집)/산 위에</td>\n",
       "      <td>현대어 \\n&amp;lt;poem&amp;gt;\\n산 위에\\n산(山) 위에 올라서서 바라다보면\\n...</td>\n",
       "    </tr>\n",
       "    <tr>\n",
       "      <th>3481</th>\n",
       "      <td>34607</td>\n",
       "      <td>951</td>\n",
       "      <td>https://ko.wikisource.org/wiki?curid=34607</td>\n",
       "      <td>진달래꽃 (시집)/산</td>\n",
       "      <td>&amp;lt;poem&amp;gt;\\n산(山)새도 오리나무\\n위에서 운다\\n산(山)새는 왜 우노...</td>\n",
       "    </tr>\n",
       "    <tr>\n",
       "      <th>3482</th>\n",
       "      <td>34608</td>\n",
       "      <td>951</td>\n",
       "      <td>https://ko.wikisource.org/wiki?curid=34608</td>\n",
       "      <td>진달래꽃 (시집)/실제 1</td>\n",
       "      <td>&amp;lt;poem&amp;gt;\\n동무들 보십시오 해가 집니다\\n해지고 오늘날은 가노랍니다\\...</td>\n",
       "    </tr>\n",
       "    <tr>\n",
       "      <th>3483</th>\n",
       "      <td>34609</td>\n",
       "      <td>951</td>\n",
       "      <td>https://ko.wikisource.org/wiki?curid=34609</td>\n",
       "      <td>진달래꽃 (시집)/실제 2</td>\n",
       "      <td>&amp;lt;poem&amp;gt;\\n이 가람과 저 가람이 모두 처흘러\\n그 무엇을 뜻하는고?\\...</td>\n",
       "    </tr>\n",
       "    <tr>\n",
       "      <th>...</th>\n",
       "      <td>...</td>\n",
       "      <td>...</td>\n",
       "      <td>...</td>\n",
       "      <td>...</td>\n",
       "      <td>...</td>\n",
       "    </tr>\n",
       "    <tr>\n",
       "      <th>25362</th>\n",
       "      <td>1519</td>\n",
       "      <td>204518</td>\n",
       "      <td>https://ko.wikisource.org/wiki?curid=1519</td>\n",
       "      <td>진달래꽃 (시집)/금잔디</td>\n",
       "      <td>&amp;lt;poem&amp;gt;\\n잔디,\\n잔디,\\n금잔디,\\n심심산천에 붙는 불은\\n가신 ...</td>\n",
       "    </tr>\n",
       "    <tr>\n",
       "      <th>25363</th>\n",
       "      <td>1521</td>\n",
       "      <td>951</td>\n",
       "      <td>https://ko.wikisource.org/wiki?curid=1521</td>\n",
       "      <td>진달래꽃 (시집)/엄마야 누나야</td>\n",
       "      <td>&amp;lt;poem&amp;gt;\\n엄마야 누나야 강변 살자,\\n뜰에는 반짝는 금모래빛,\\n뒷...</td>\n",
       "    </tr>\n",
       "    <tr>\n",
       "      <th>25364</th>\n",
       "      <td>1522</td>\n",
       "      <td>951</td>\n",
       "      <td>https://ko.wikisource.org/wiki?curid=1522</td>\n",
       "      <td>진달래꽃 (시집)/산유화</td>\n",
       "      <td>현대어 \\n&amp;lt;poem&amp;gt;\\n산유화\\n산에는 꽃 피네\\n꽃이 피네\\n갈 봄 ...</td>\n",
       "    </tr>\n",
       "    <tr>\n",
       "      <th>25365</th>\n",
       "      <td>1523</td>\n",
       "      <td>951</td>\n",
       "      <td>https://ko.wikisource.org/wiki?curid=1523</td>\n",
       "      <td>진달래꽃 (시집)/왕십리</td>\n",
       "      <td>&amp;lt;poem&amp;gt;\\n비가 온다\\n오누나\\n오는 비는\\n올지라도 한 닷새 왔으면...</td>\n",
       "    </tr>\n",
       "    <tr>\n",
       "      <th>25397</th>\n",
       "      <td>1717</td>\n",
       "      <td>951</td>\n",
       "      <td>https://ko.wikisource.org/wiki?curid=1717</td>\n",
       "      <td>진달래꽃 (시집)/예전엔 미처 몰랐어요</td>\n",
       "      <td>&amp;lt;poem&amp;gt;\\n봄 가을없이 밤마다 돋는 달도\\n'예전엔 미처 몰랐어요.'...</td>\n",
       "    </tr>\n",
       "  </tbody>\n",
       "</table>\n",
       "<p>167 rows × 5 columns</p>\n",
       "</div>"
      ],
      "text/plain": [
       "          id   revid                                         url  \\\n",
       "3479   34605     951  https://ko.wikisource.org/wiki?curid=34605   \n",
       "3480   34606  290727  https://ko.wikisource.org/wiki?curid=34606   \n",
       "3481   34607     951  https://ko.wikisource.org/wiki?curid=34607   \n",
       "3482   34608     951  https://ko.wikisource.org/wiki?curid=34608   \n",
       "3483   34609     951  https://ko.wikisource.org/wiki?curid=34609   \n",
       "...      ...     ...                                         ...   \n",
       "25362   1519  204518   https://ko.wikisource.org/wiki?curid=1519   \n",
       "25363   1521     951   https://ko.wikisource.org/wiki?curid=1521   \n",
       "25364   1522     951   https://ko.wikisource.org/wiki?curid=1522   \n",
       "25365   1523     951   https://ko.wikisource.org/wiki?curid=1523   \n",
       "25397   1717     951   https://ko.wikisource.org/wiki?curid=1717   \n",
       "\n",
       "                       title  \\\n",
       "3479           진달래꽃 (시집)/님에게   \n",
       "3480          진달래꽃 (시집)/산 위에   \n",
       "3481             진달래꽃 (시집)/산   \n",
       "3482          진달래꽃 (시집)/실제 1   \n",
       "3483          진달래꽃 (시집)/실제 2   \n",
       "...                      ...   \n",
       "25362          진달래꽃 (시집)/금잔디   \n",
       "25363      진달래꽃 (시집)/엄마야 누나야   \n",
       "25364          진달래꽃 (시집)/산유화   \n",
       "25365          진달래꽃 (시집)/왕십리   \n",
       "25397  진달래꽃 (시집)/예전엔 미처 몰랐어요   \n",
       "\n",
       "                                                    text  \n",
       "3479   &lt;poem&gt;\\n한때는 많은 날을 당신 생각에\\n밤까지 새운 일도 없지 않...  \n",
       "3480   현대어 \\n&lt;poem&gt;\\n산 위에\\n산(山) 위에 올라서서 바라다보면\\n...  \n",
       "3481   &lt;poem&gt;\\n산(山)새도 오리나무\\n위에서 운다\\n산(山)새는 왜 우노...  \n",
       "3482   &lt;poem&gt;\\n동무들 보십시오 해가 집니다\\n해지고 오늘날은 가노랍니다\\...  \n",
       "3483   &lt;poem&gt;\\n이 가람과 저 가람이 모두 처흘러\\n그 무엇을 뜻하는고?\\...  \n",
       "...                                                  ...  \n",
       "25362  &lt;poem&gt;\\n잔디,\\n잔디,\\n금잔디,\\n심심산천에 붙는 불은\\n가신 ...  \n",
       "25363  &lt;poem&gt;\\n엄마야 누나야 강변 살자,\\n뜰에는 반짝는 금모래빛,\\n뒷...  \n",
       "25364  현대어 \\n&lt;poem&gt;\\n산유화\\n산에는 꽃 피네\\n꽃이 피네\\n갈 봄 ...  \n",
       "25365  &lt;poem&gt;\\n비가 온다\\n오누나\\n오는 비는\\n올지라도 한 닷새 왔으면...  \n",
       "25397  &lt;poem&gt;\\n봄 가을없이 밤마다 돋는 달도\\n'예전엔 미처 몰랐어요.'...  \n",
       "\n",
       "[167 rows x 5 columns]"
      ]
     },
     "execution_count": 10,
     "metadata": {},
     "output_type": "execute_result"
    }
   ],
   "source": [
    "#검색하고자 하는 제목과 자료 순서 입력.\n",
    "title = '진달래꽃'\n",
    "index = 0\n",
    "author = '김소월'\n",
    "#바르게 검색되었는지 확인.\n",
    "check = df[df['title'].str.contains(title)]\n",
    "check"
   ]
  },
  {
   "cell_type": "code",
   "execution_count": 11,
   "metadata": {},
   "outputs": [],
   "source": [
    "#빈 프레임 만들기 (열은 본문과 title)\n",
    "one_poem_lines = pd.DataFrame(columns=['본문', '제목'])"
   ]
  },
  {
   "cell_type": "code",
   "execution_count": 12,
   "metadata": {},
   "outputs": [
    {
     "data": {
      "text/plain": [
       "본문    당신은 잊어버린 설움이외다\n",
       "제목     진달래꽃 (시집)/님에게\n",
       "저자               김소월\n",
       "Name: 11, dtype: object"
      ]
     },
     "execution_count": 12,
     "metadata": {},
     "output_type": "execute_result"
    }
   ],
   "source": [
    "# 작품 한개씩 행 추출 (데이터에 포함된 작품이름과, 작가 이름을 검색.) #여러개를 쌓을 수 있다\n",
    "one_poem_lines = getOnlyOneresult_with_title(df, one_poem_lines, process_getPoemLines, title, author, index) #검색어, 작가 이름 입력\n",
    "one_poem_lines.iloc[-1] # 마지막줄 확인"
   ]
  },
  {
   "cell_type": "code",
   "execution_count": 14,
   "metadata": {},
   "outputs": [],
   "source": [
    "one_full_poem = pd.DataFrame(columns=['본문', '제목'])"
   ]
  },
  {
   "cell_type": "code",
   "execution_count": 15,
   "metadata": {},
   "outputs": [
    {
     "data": {
      "text/plain": [
       "본문    한때는 많은 날을 당신 생각에\\n밤까지 새운 일도 없지 않지만\\n아직도 때마다는 당...\n",
       "제목                                        진달래꽃 (시집)/님에게\n",
       "저자                                                  김소월\n",
       "Name: 0, dtype: object"
      ]
     },
     "execution_count": 15,
     "metadata": {},
     "output_type": "execute_result"
    }
   ],
   "source": [
    "# 작품 한개씩 행 추출 (데이터에 포함된 작품이름과, 작가 이름을 검색.) #여러개를 쌓을 수 있다\n",
    "one_full_poem = getOnlyOneFullTextresult_with_title(df, one_full_poem, process_getPoemFullLines, title, author, index) #검색어, 작가 이름 입력\n",
    "one_full_poem.iloc[-1] # 마지막줄 확인"
   ]
  },
  {
   "cell_type": "code",
   "execution_count": 17,
   "metadata": {},
   "outputs": [],
   "source": [
    "one_poem_lines.to_csv('kowikisource_poem_lines.csv', index=False, encoding='utf-8-sig')\n",
    "one_full_poem.to_csv('kowikisource_full_poem.csv', index=False, encoding='utf-8-sig')"
   ]
  },
  {
   "cell_type": "markdown",
   "metadata": {},
   "source": [
    "### title에 해당하는 복수의 데이터를 행 단위/ 작품 단위로 추출"
   ]
  },
  {
   "cell_type": "code",
   "execution_count": 18,
   "metadata": {},
   "outputs": [],
   "source": [
    "def update_results_with_title(df, results_df, process_function, title_to_search, author):\n",
    "\n",
    "    # 제목에 해당하는 텍스트 검색\n",
    "    title_to_search.replace(\"_\", \" \")\n",
    "    filtered_text = df[df['title'].str.contains(title_to_search, na=False)]\n",
    "    if filtered_text.empty:\n",
    "        raise ValueError(f\"'{title_to_search}'에 해당하는 데이터가 없습니다.\")\n",
    "\n",
    "    # 조건 반복문으로 'doc' 처리\n",
    "    for index, row in filtered_text.iterrows():\n",
    "        if 'text' in row:  # 'doc' 열이 존재하는지 확인\n",
    "            # 'doc' 값 추출\n",
    "            text_value = row['text']\n",
    "            title =  row['title']\n",
    "\n",
    "            # 텍스트 처리\n",
    "            processed_result = process_function(text_value.split('\\n'), title)\n",
    "\n",
    "            # 처리 결과를 기존 DataFrame에 추가\n",
    "            results_df = pd.concat([results_df, pd.DataFrame(processed_result)], ignore_index=True)\n",
    "\n",
    "            # # 새로운 열 추가 (고정된 값)\n",
    "            results_df['저자'] = author\n",
    "        else:\n",
    "            print(f\"Row {index}에 'text' 값이 없습니다. 건너뜁니다.\")\n",
    "    return results_df"
   ]
  },
  {
   "cell_type": "code",
   "execution_count": 19,
   "metadata": {},
   "outputs": [],
   "source": [
    "def update_FullTextResults_with_title(df, results_df, process_function, title_to_search, author):\n",
    "\n",
    "    # 제목에 해당하는 텍스트 검색\n",
    "    title_to_search.replace(\"_\", \" \")\n",
    "    filtered_text = df[df['title'].str.contains(title_to_search, na=False)]\n",
    "    if filtered_text.empty:\n",
    "        raise ValueError(f\"'{title_to_search}'에 해당하는 데이터가 없습니다.\")\n",
    "\n",
    "\n",
    "    # 조건 반복문으로 'doc' 처리\n",
    "    for index, row in filtered_text.iterrows():\n",
    "        if 'text' in row:  # 'doc' 열이 존재하는지 확인\n",
    "            # 'doc' 값 추출\n",
    "            text_value = row['text']\n",
    "            title =  row['title']\n",
    "\n",
    "            # 텍스트 처리\n",
    "            processed_result = process_function(text_value, title)\n",
    "\n",
    "            # 처리 결과를 기존 DataFrame에 추가\n",
    "            results_df = pd.concat([results_df, pd.DataFrame(processed_result)], ignore_index=True)\n",
    "\n",
    "            # # 새로운 열 추가 (고정된 값)\n",
    "            results_df['저자'] = author\n",
    "        else:\n",
    "            print(f\"Row {index}에 'text' 값이 없습니다. 건너뜁니다.\")\n",
    "    return results_df"
   ]
  },
  {
   "cell_type": "code",
   "execution_count": 20,
   "metadata": {},
   "outputs": [
    {
     "data": {
      "text/html": [
       "<div>\n",
       "<style scoped>\n",
       "    .dataframe tbody tr th:only-of-type {\n",
       "        vertical-align: middle;\n",
       "    }\n",
       "\n",
       "    .dataframe tbody tr th {\n",
       "        vertical-align: top;\n",
       "    }\n",
       "\n",
       "    .dataframe thead th {\n",
       "        text-align: right;\n",
       "    }\n",
       "</style>\n",
       "<table border=\"1\" class=\"dataframe\">\n",
       "  <thead>\n",
       "    <tr style=\"text-align: right;\">\n",
       "      <th></th>\n",
       "      <th>id</th>\n",
       "      <th>revid</th>\n",
       "      <th>url</th>\n",
       "      <th>title</th>\n",
       "      <th>text</th>\n",
       "    </tr>\n",
       "  </thead>\n",
       "  <tbody>\n",
       "    <tr>\n",
       "      <th>1369</th>\n",
       "      <td>24999</td>\n",
       "      <td>15531</td>\n",
       "      <td>https://ko.wikisource.org/wiki?curid=24999</td>\n",
       "      <td>님의 침묵/자유정조</td>\n",
       "      <td>自由貞操.\\n&amp;lt;poem&amp;gt;\\n&amp;lt;pages index=\"CNTS-000...</td>\n",
       "    </tr>\n",
       "    <tr>\n",
       "      <th>1370</th>\n",
       "      <td>25001</td>\n",
       "      <td>15531</td>\n",
       "      <td>https://ko.wikisource.org/wiki?curid=25001</td>\n",
       "      <td>님의 침묵/차라리</td>\n",
       "      <td>차라리.\\n&amp;lt;poem&amp;gt;\\n&amp;lt;pages index=\"CNTS-0007...</td>\n",
       "    </tr>\n",
       "    <tr>\n",
       "      <th>1371</th>\n",
       "      <td>25002</td>\n",
       "      <td>15531</td>\n",
       "      <td>https://ko.wikisource.org/wiki?curid=25002</td>\n",
       "      <td>님의 침묵/당신이 아니더면</td>\n",
       "      <td>당신이아니더면.\\n&amp;lt;poem&amp;gt;\\n&amp;lt;pages index=\"CNTS-...</td>\n",
       "    </tr>\n",
       "    <tr>\n",
       "      <th>1372</th>\n",
       "      <td>25003</td>\n",
       "      <td>15531</td>\n",
       "      <td>https://ko.wikisource.org/wiki?curid=25003</td>\n",
       "      <td>님의 침묵/잠 없는 꿈</td>\n",
       "      <td>잠업는ᄭᅮᆷ.\\n&amp;lt;poem&amp;gt;\\n&amp;lt;pages index=\"CNTS-0...</td>\n",
       "    </tr>\n",
       "    <tr>\n",
       "      <th>1373</th>\n",
       "      <td>25004</td>\n",
       "      <td>15531</td>\n",
       "      <td>https://ko.wikisource.org/wiki?curid=25004</td>\n",
       "      <td>님의 침묵/진주</td>\n",
       "      <td>眞珠.\\n&amp;lt;poem&amp;gt;\\n&amp;lt;pages index=\"CNTS-00076...</td>\n",
       "    </tr>\n",
       "    <tr>\n",
       "      <th>...</th>\n",
       "      <td>...</td>\n",
       "      <td>...</td>\n",
       "      <td>...</td>\n",
       "      <td>...</td>\n",
       "      <td>...</td>\n",
       "    </tr>\n",
       "    <tr>\n",
       "      <th>26924</th>\n",
       "      <td>12458</td>\n",
       "      <td>15531</td>\n",
       "      <td>https://ko.wikisource.org/wiki?curid=12458</td>\n",
       "      <td>님의 침묵/당신 가신 때</td>\n",
       "      <td>당신가신ᄯᅢ.\\n&amp;lt;poem&amp;gt;\\n&amp;lt;pages index=\"CNTS-0...</td>\n",
       "    </tr>\n",
       "    <tr>\n",
       "      <th>26925</th>\n",
       "      <td>12459</td>\n",
       "      <td>15531</td>\n",
       "      <td>https://ko.wikisource.org/wiki?curid=12459</td>\n",
       "      <td>님의 침묵/당신은</td>\n",
       "      <td>당신은.\\n&amp;lt;poem&amp;gt;\\n&amp;lt;pages index=\"CNTS-0007...</td>\n",
       "    </tr>\n",
       "    <tr>\n",
       "      <th>27500</th>\n",
       "      <td>2239</td>\n",
       "      <td>7</td>\n",
       "      <td>https://ko.wikisource.org/wiki?curid=2239</td>\n",
       "      <td>한용운의 님의 침묵</td>\n",
       "      <td></td>\n",
       "    </tr>\n",
       "    <tr>\n",
       "      <th>27907</th>\n",
       "      <td>1362</td>\n",
       "      <td>5442</td>\n",
       "      <td>https://ko.wikisource.org/wiki?curid=1362</td>\n",
       "      <td>님의 침묵/가갸날</td>\n",
       "      <td>&amp;lt;poem&amp;gt;\\n아아, 가갸날\\n참되고 어질고 아름다와요\\n축일(祝日) 제...</td>\n",
       "    </tr>\n",
       "    <tr>\n",
       "      <th>30377</th>\n",
       "      <td>100149</td>\n",
       "      <td>15531</td>\n",
       "      <td>https://ko.wikisource.org/wiki?curid=100149</td>\n",
       "      <td>님의 침묵/군말</td>\n",
       "      <td>군말.\\n&amp;lt;pages index=\"CNTS-00076805684 님의 沈黙.p...</td>\n",
       "    </tr>\n",
       "  </tbody>\n",
       "</table>\n",
       "<p>97 rows × 5 columns</p>\n",
       "</div>"
      ],
      "text/plain": [
       "           id  revid                                          url  \\\n",
       "1369    24999  15531   https://ko.wikisource.org/wiki?curid=24999   \n",
       "1370    25001  15531   https://ko.wikisource.org/wiki?curid=25001   \n",
       "1371    25002  15531   https://ko.wikisource.org/wiki?curid=25002   \n",
       "1372    25003  15531   https://ko.wikisource.org/wiki?curid=25003   \n",
       "1373    25004  15531   https://ko.wikisource.org/wiki?curid=25004   \n",
       "...       ...    ...                                          ...   \n",
       "26924   12458  15531   https://ko.wikisource.org/wiki?curid=12458   \n",
       "26925   12459  15531   https://ko.wikisource.org/wiki?curid=12459   \n",
       "27500    2239      7    https://ko.wikisource.org/wiki?curid=2239   \n",
       "27907    1362   5442    https://ko.wikisource.org/wiki?curid=1362   \n",
       "30377  100149  15531  https://ko.wikisource.org/wiki?curid=100149   \n",
       "\n",
       "                title                                               text  \n",
       "1369       님의 침묵/자유정조  自由貞操.\\n&lt;poem&gt;\\n&lt;pages index=\"CNTS-000...  \n",
       "1370        님의 침묵/차라리  차라리.\\n&lt;poem&gt;\\n&lt;pages index=\"CNTS-0007...  \n",
       "1371   님의 침묵/당신이 아니더면  당신이아니더면.\\n&lt;poem&gt;\\n&lt;pages index=\"CNTS-...  \n",
       "1372     님의 침묵/잠 없는 꿈  잠업는ᄭᅮᆷ.\\n&lt;poem&gt;\\n&lt;pages index=\"CNTS-0...  \n",
       "1373         님의 침묵/진주  眞珠.\\n&lt;poem&gt;\\n&lt;pages index=\"CNTS-00076...  \n",
       "...               ...                                                ...  \n",
       "26924   님의 침묵/당신 가신 때  당신가신ᄯᅢ.\\n&lt;poem&gt;\\n&lt;pages index=\"CNTS-0...  \n",
       "26925       님의 침묵/당신은  당신은.\\n&lt;poem&gt;\\n&lt;pages index=\"CNTS-0007...  \n",
       "27500      한용운의 님의 침묵                                                     \n",
       "27907       님의 침묵/가갸날  &lt;poem&gt;\\n아아, 가갸날\\n참되고 어질고 아름다와요\\n축일(祝日) 제...  \n",
       "30377        님의 침묵/군말  군말.\\n&lt;pages index=\"CNTS-00076805684 님의 沈黙.p...  \n",
       "\n",
       "[97 rows x 5 columns]"
      ]
     },
     "execution_count": 20,
     "metadata": {},
     "output_type": "execute_result"
    }
   ],
   "source": [
    "# 검색 데이터 확인.\n",
    "title = '님의 침묵'\n",
    "author = '한용운'\n",
    "check = df[df['title'].str.contains(title)]\n",
    "check"
   ]
  },
  {
   "cell_type": "code",
   "execution_count": 21,
   "metadata": {},
   "outputs": [],
   "source": [
    "#빈 프레임 지정. 열 지정.\n",
    "poems_lines = pd.DataFrame(columns=['본문', '제목'])"
   ]
  },
  {
   "cell_type": "code",
   "execution_count": 22,
   "metadata": {},
   "outputs": [
    {
     "data": {
      "text/plain": [
       "본문    나는 해저문 벌판에서 돌아가는 길을 잃고 헤매는 어린 양(羊)이 그리워서 이 시(詩...\n",
       "제목                                             님의 침묵/군말\n",
       "저자                                                  한용운\n",
       "Name: 1083, dtype: object"
      ]
     },
     "execution_count": 22,
     "metadata": {},
     "output_type": "execute_result"
    }
   ],
   "source": [
    "poems_lines = update_results_with_title(df, poems_lines, process_getPoemLines, title, author)\n",
    "poems_lines.iloc[-1] # 마지막줄 확인"
   ]
  },
  {
   "cell_type": "code",
   "execution_count": 23,
   "metadata": {},
   "outputs": [],
   "source": [
    "poems_full = pd.DataFrame(columns=['본문', '제목'])"
   ]
  },
  {
   "cell_type": "code",
   "execution_count": 24,
   "metadata": {},
   "outputs": [
    {
     "data": {
      "text/plain": [
       "본문    군말.\\n\\n현대어.\\n\\n「님」만 님이 아니라 그리운 것은 다 님이다 중생(衆生)...\n",
       "제목                                             님의 침묵/군말\n",
       "저자                                                  한용운\n",
       "Name: 96, dtype: object"
      ]
     },
     "execution_count": 24,
     "metadata": {},
     "output_type": "execute_result"
    }
   ],
   "source": [
    "poems_full= update_FullTextResults_with_title(df, poems_full, process_getPoemFullLines, title, author)\n",
    "poems_full.iloc[-1] # 마지막줄 확인"
   ]
  },
  {
   "cell_type": "code",
   "execution_count": 25,
   "metadata": {},
   "outputs": [],
   "source": [
    "poems_lines.to_csv('한용운_님의침묵_lines.csv', index=False, encoding='utf-8-sig')\n",
    "poems_full.to_csv('한용운_님의침묵_full.csv', index=False, encoding='utf-8-sig')"
   ]
  }
 ],
 "metadata": {
  "kernelspec": {
   "display_name": "myenv",
   "language": "python",
   "name": "python3"
  },
  "language_info": {
   "codemirror_mode": {
    "name": "ipython",
    "version": 3
   },
   "file_extension": ".py",
   "mimetype": "text/x-python",
   "name": "python",
   "nbconvert_exporter": "python",
   "pygments_lexer": "ipython3",
   "version": "3.10.18"
  }
 },
 "nbformat": 4,
 "nbformat_minor": 2
}
